{
  "nbformat": 4,
  "nbformat_minor": 0,
  "metadata": {
    "colab": {
      "provenance": [],
      "gpuType": "T4"
    },
    "kernelspec": {
      "name": "python3",
      "display_name": "Python 3"
    },
    "language_info": {
      "name": "python"
    },
    "accelerator": "GPU"
  },
  "cells": [
    {
      "cell_type": "code",
      "source": [
        "import matplotlib.pyplot as plt\n",
        "import numpy as np\n",
        "import os\n",
        "import tensorflow\n",
        "\n",
        "from tensorflow.keras import models\n",
        "from tensorflow.keras import layers\n",
        "from tensorflow.keras.applications import VGG16\n",
        "from tensorflow.keras.preprocessing.image import ImageDataGenerator\n",
        "from tensorflow.keras import optimizers"
      ],
      "metadata": {
        "id": "LTGz_97LIWWQ"
      },
      "execution_count": 1,
      "outputs": []
    },
    {
      "cell_type": "code",
      "execution_count": 2,
      "metadata": {
        "colab": {
          "base_uri": "https://localhost:8080/"
        },
        "id": "frp3uCfkA1Z6",
        "outputId": "4fc7b43e-a101-44bb-e113-5c6f6c32379d"
      },
      "outputs": [
        {
          "output_type": "stream",
          "name": "stdout",
          "text": [
            "Mounted at /content/drive\n",
            "/content/drive/MyDrive/SeptimoSemestre/ModDL\n"
          ]
        }
      ],
      "source": [
        "from google.colab import drive\n",
        "drive.mount('/content/drive')\n",
        "\n",
        "%cd \"/content/drive/MyDrive/SeptimoSemestre/ModDL\""
      ]
    },
    {
      "cell_type": "code",
      "source": [
        "base = 'forklift'\n",
        "train = os.path.join(base,'train')\n",
        "validation = os.path.join(base,'val')\n",
        "test = os.path.join(base,'test')"
      ],
      "metadata": {
        "id": "TeQ2lApcIx8Z"
      },
      "execution_count": 3,
      "outputs": []
    },
    {
      "cell_type": "code",
      "source": [
        "train_datagen = ImageDataGenerator(\n",
        "\t\t\t\t\t\t\trescale = 1./255,\n",
        "\t\t\t\t\t\t\twidth_shift_range = 0.2,\n",
        "\t\t\t\t\t\t\theight_shift_range = 0.2,\n",
        "\t\t\t\t\t\t\tzoom_range = 0.2,\n",
        "\t\t\t\t\t\t\thorizontal_flip = True)\n",
        "\n",
        "train_generator = train_datagen.flow_from_directory(\n",
        "\t\t\t\t\t\t\ttrain,\n",
        "\t\t\t\t\t\t\ttarget_size = (150, 150),\n",
        "\t\t\t\t\t\t\tbatch_size = 30,\n",
        "\t\t\t\t\t\t\tclass_mode ='binary')"
      ],
      "metadata": {
        "colab": {
          "base_uri": "https://localhost:8080/"
        },
        "id": "ALyNNlLRJ2SS",
        "outputId": "3c4e5bb3-cbc3-4568-dad8-715890cca85f"
      },
      "execution_count": 4,
      "outputs": [
        {
          "output_type": "stream",
          "name": "stdout",
          "text": [
            "Found 1519 images belonging to 2 classes.\n"
          ]
        }
      ]
    },
    {
      "cell_type": "code",
      "source": [
        "val_datagen = ImageDataGenerator(1./255)\n",
        "\n",
        "val_generator = val_datagen.flow_from_directory(\n",
        "\t\t\t\t\t\t\tvalidation,\n",
        "\t\t\t\t\t\t\ttarget_size = (150,150),\n",
        "\t\t\t\t\t\t\tbatch_size =30,\n",
        "\t\t\t\t\t\t\tclass_mode= 'binary')"
      ],
      "metadata": {
        "colab": {
          "base_uri": "https://localhost:8080/"
        },
        "id": "Iiwx7hLeKjwQ",
        "outputId": "de328ac3-7408-4938-d53e-73342f249c43"
      },
      "execution_count": 5,
      "outputs": [
        {
          "output_type": "stream",
          "name": "stdout",
          "text": [
            "Found 187 images belonging to 2 classes.\n"
          ]
        }
      ]
    },
    {
      "cell_type": "code",
      "source": [
        "conv_base= VGG16(weights='imagenet',\n",
        "\t\t\t\t\t\t\t\tinclude_top = False,\n",
        "\t\t\t\t\t\t\t\tinput_shape = (150,150,3))"
      ],
      "metadata": {
        "colab": {
          "base_uri": "https://localhost:8080/"
        },
        "id": "IqXNQ-FiK2EJ",
        "outputId": "2bb79b00-0206-4f18-9c7b-b8d0c2c5e180"
      },
      "execution_count": 6,
      "outputs": [
        {
          "output_type": "stream",
          "name": "stdout",
          "text": [
            "Downloading data from https://storage.googleapis.com/tensorflow/keras-applications/vgg16/vgg16_weights_tf_dim_ordering_tf_kernels_notop.h5\n",
            "58889256/58889256 [==============================] - 0s 0us/step\n"
          ]
        }
      ]
    },
    {
      "cell_type": "code",
      "source": [
        "model = models.Sequential()\n",
        "model.add(conv_base)\n",
        "model.add(layers.Flatten())\n",
        "model.add(layers.Dense(256,activation='relu'))\n",
        "model.add(layers.Dense(1,activation='sigmoid'))\n",
        "\n",
        "conv_base.trainable = False"
      ],
      "metadata": {
        "id": "K6tt_GArMUZ_"
      },
      "execution_count": 7,
      "outputs": []
    },
    {
      "cell_type": "code",
      "source": [
        "model.summary()"
      ],
      "metadata": {
        "colab": {
          "base_uri": "https://localhost:8080/"
        },
        "id": "uSmgx2D3M7r4",
        "outputId": "7e9ece3e-0eee-495d-ff8f-c72c10b505e6"
      },
      "execution_count": 8,
      "outputs": [
        {
          "output_type": "stream",
          "name": "stdout",
          "text": [
            "Model: \"sequential\"\n",
            "_________________________________________________________________\n",
            " Layer (type)                Output Shape              Param #   \n",
            "=================================================================\n",
            " vgg16 (Functional)          (None, 4, 4, 512)         14714688  \n",
            "                                                                 \n",
            " flatten (Flatten)           (None, 8192)              0         \n",
            "                                                                 \n",
            " dense (Dense)               (None, 256)               2097408   \n",
            "                                                                 \n",
            " dense_1 (Dense)             (None, 1)                 257       \n",
            "                                                                 \n",
            "=================================================================\n",
            "Total params: 16812353 (64.13 MB)\n",
            "Trainable params: 2097665 (8.00 MB)\n",
            "Non-trainable params: 14714688 (56.13 MB)\n",
            "_________________________________________________________________\n"
          ]
        }
      ]
    },
    {
      "cell_type": "code",
      "source": [
        "model.compile(loss='binary_crossentropy',\n",
        "\t\t\t\t\t\toptimizer=optimizers.RMSprop(lr=2e-5),\n",
        "\t\t\t\t\t\tmetrics=['acc'])"
      ],
      "metadata": {
        "colab": {
          "base_uri": "https://localhost:8080/"
        },
        "id": "sPjSvD0fNTSV",
        "outputId": "f94e5758-0765-495b-f35d-e5df17a02363"
      },
      "execution_count": 9,
      "outputs": [
        {
          "output_type": "stream",
          "name": "stderr",
          "text": [
            "WARNING:absl:`lr` is deprecated in Keras optimizer, please use `learning_rate` or use the legacy optimizer, e.g.,tf.keras.optimizers.legacy.RMSprop.\n"
          ]
        }
      ]
    },
    {
      "cell_type": "code",
      "source": [
        "history = model.fit_generator(train_generator,\n",
        "\t\t\t\tsteps_per_epoch= 25,\n",
        "\t\t\t\tepochs= 5,\n",
        "\t\t\t\tvalidation_data= val_generator,\n",
        "\t\t\t\tvalidation_steps= 25)"
      ],
      "metadata": {
        "colab": {
          "base_uri": "https://localhost:8080/"
        },
        "id": "BGraVA67NZF7",
        "outputId": "09c405bb-3cbf-4a31-8383-4603759a2e49"
      },
      "execution_count": 10,
      "outputs": [
        {
          "output_type": "stream",
          "name": "stderr",
          "text": [
            "<ipython-input-10-ffd43f4de605>:1: UserWarning: `Model.fit_generator` is deprecated and will be removed in a future version. Please use `Model.fit`, which supports generators.\n",
            "  history = model.fit_generator(train_generator,\n"
          ]
        },
        {
          "output_type": "stream",
          "name": "stdout",
          "text": [
            "Epoch 1/5\n",
            "25/25 [==============================] - ETA: 0s - loss: 0.6407 - acc: 0.8200"
          ]
        },
        {
          "output_type": "stream",
          "name": "stderr",
          "text": [
            "/usr/local/lib/python3.10/dist-packages/keras/src/preprocessing/image.py:1862: UserWarning: This ImageDataGenerator specifies `featurewise_center`, but it hasn't been fit on any training data. Fit it first by calling `.fit(numpy_data)`.\n",
            "  warnings.warn(\n",
            "WARNING:tensorflow:Your input ran out of data; interrupting training. Make sure that your dataset or generator can generate at least `steps_per_epoch * epochs` batches (in this case, 25 batches). You may need to use the repeat() function when building your dataset.\n"
          ]
        },
        {
          "output_type": "stream",
          "name": "stdout",
          "text": [
            "\b\b\b\b\b\b\b\b\b\b\b\b\b\b\b\b\b\b\b\b\b\b\b\b\b\b\b\b\b\b\b\b\b\b\b\b\b\b\b\b\b\b\b\b\b\b\b\b\b\b\b\b\b\b\b\b\b\b\b\b\b\b\b\b\b\b\b\b\b\b\b\b\b\b\b\b\b\r25/25 [==============================] - 139s 5s/step - loss: 0.6407 - acc: 0.8200 - val_loss: 7.0412 - val_acc: 0.8289\n",
            "Epoch 2/5\n",
            "25/25 [==============================] - 43s 2s/step - loss: 0.2152 - acc: 0.9133\n",
            "Epoch 3/5\n",
            "25/25 [==============================] - 24s 937ms/step - loss: 0.1250 - acc: 0.9467\n",
            "Epoch 4/5\n",
            "25/25 [==============================] - 14s 580ms/step - loss: 0.1160 - acc: 0.9594\n",
            "Epoch 5/5\n",
            "25/25 [==============================] - 11s 454ms/step - loss: 0.0979 - acc: 0.9560\n"
          ]
        }
      ]
    },
    {
      "cell_type": "code",
      "source": [
        "# loss\n",
        "plt.plot(history.history['loss'], label='train loss')\n",
        "plt.plot(history.history['val_loss'], label='val loss')\n",
        "plt.legend()\n",
        "plt.show()"
      ],
      "metadata": {
        "colab": {
          "base_uri": "https://localhost:8080/",
          "height": 430
        },
        "id": "6kwysFuXd4sL",
        "outputId": "d04e79b7-cd3c-4963-9b47-4c21bc47636b"
      },
      "execution_count": 11,
      "outputs": [
        {
          "output_type": "display_data",
          "data": {
            "text/plain": [
              "<Figure size 640x480 with 1 Axes>"
            ],
            "image/png": "[encoded data removed]"
          },
          "metadata": {}
        }
      ]
    },
    {
      "cell_type": "code",
      "source": [
        " # accuracies\n",
        "plt.plot(history.history['acc'], label='train acc')\n",
        "plt.plot(history.history['val_acc'], label='val acc')\n",
        "plt.legend()\n",
        "plt.show()"
      ],
      "metadata": {
        "colab": {
          "base_uri": "https://localhost:8080/",
          "height": 430
        },
        "id": "IeYfMwVCd_NH",
        "outputId": "7ed94e93-9c6a-4416-f960-117fcb40f669"
      },
      "execution_count": 12,
      "outputs": [
        {
          "output_type": "display_data",
          "data": {
            "text/plain": [
              "<Figure size 640x480 with 1 Axes>"
            ],
            "image/png": "[encoded data removed]"
          },
          "metadata": {}
        }
      ]
    },
    {
      "cell_type": "code",
      "source": [
        "acc = history.history['acc']\n",
        "val_acc = history.history['val_acc']\n",
        "loss = history.history['loss']\n",
        "val_loss = history.history['val_loss']\n",
        "print(\"Accuracy = \",acc)\n",
        "print(\"Validation Accuracy = \",val_acc)\n",
        "print(\"Loss = \",loss)\n",
        "print(\"Validation Loss = \",val_loss)"
      ],
      "metadata": {
        "colab": {
          "base_uri": "https://localhost:8080/"
        },
        "id": "rKT7aDroPCCt",
        "outputId": "e1d0042d-f7e5-420c-f169-239adeabab52"
      },
      "execution_count": 13,
      "outputs": [
        {
          "output_type": "stream",
          "name": "stdout",
          "text": [
            "Accuracy =  [0.8199999928474426, 0.9133333563804626, 0.9466666579246521, 0.9594045877456665, 0.9559999704360962]\n",
            "Validation Accuracy =  [0.8288770318031311]\n",
            "Loss =  [0.6407301425933838, 0.21522648632526398, 0.1249552071094513, 0.11596377938985825, 0.0979069396853447]\n",
            "Validation Loss =  [7.041151523590088]\n"
          ]
        }
      ]
    },
    {
      "cell_type": "code",
      "source": [
        "test_datagen = ImageDataGenerator(1./255)\n",
        "test_generator = test_datagen.flow_from_directory(\n",
        "\t\t\t\t\ttest,\n",
        "\t\t\t\t\ttarget_size = (150, 150),\n",
        "\t\t\t\t\tbatch_size = 20,\n",
        "\t\t\t\t\tclass_mode= 'binary')\n",
        "\n",
        "test_loss, test_acc = model.evaluate_generator(test_generator, steps = 25)\n",
        "print('\\ntest acc :\\n', test_acc)"
      ],
      "metadata": {
        "colab": {
          "base_uri": "https://localhost:8080/"
        },
        "id": "Yil4rIHYPiks",
        "outputId": "b79bce72-8fc7-4362-f3b6-fa587070e0e5"
      },
      "execution_count": 14,
      "outputs": [
        {
          "output_type": "stream",
          "name": "stdout",
          "text": [
            "Found 560 images belonging to 2 classes.\n"
          ]
        },
        {
          "output_type": "stream",
          "name": "stderr",
          "text": [
            "<ipython-input-14-bd2ecfd8dbb8>:8: UserWarning: `Model.evaluate_generator` is deprecated and will be removed in a future version. Please use `Model.evaluate`, which supports generators.\n",
            "  test_loss, test_acc = model.evaluate_generator(test_generator, steps = 25)\n"
          ]
        },
        {
          "output_type": "stream",
          "name": "stdout",
          "text": [
            "\n",
            "test acc :\n",
            " 0.9760000109672546\n"
          ]
        }
      ]
    }
  ]
}