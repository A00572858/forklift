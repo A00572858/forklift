{
  "nbformat": 4,
  "nbformat_minor": 0,
  "metadata": {
    "colab": {
      "provenance": [],
      "gpuType": "T4"
    },
    "kernelspec": {
      "name": "python3",
      "display_name": "Python 3"
    },
    "language_info": {
      "name": "python"
    },
    "accelerator": "GPU"
  },
  "cells": [
    {
      "cell_type": "code",
      "source": [
        "import matplotlib.pyplot as plt\n",
        "import numpy as np\n",
        "import os\n",
        "import tensorflow\n",
        "\n",
        "from tensorflow.keras import models\n",
        "from tensorflow.keras import layers\n",
        "from tensorflow.keras.applications import VGG16\n",
        "from tensorflow.keras.preprocessing.image import ImageDataGenerator\n",
        "from tensorflow.keras import optimizers"
      ],
      "metadata": {
        "id": "LTGz_97LIWWQ"
      },
      "execution_count": 27,
      "outputs": []
    },
    {
      "cell_type": "code",
      "execution_count": 2,
      "metadata": {
        "colab": {
          "base_uri": "https://localhost:8080/"
        },
        "id": "frp3uCfkA1Z6",
        "outputId": "cf75c76d-1670-400a-ccab-0f2867cc8a04"
      },
      "outputs": [
        {
          "output_type": "stream",
          "name": "stdout",
          "text": [
            "Mounted at /content/drive\n",
            "/content/drive/MyDrive/SeptimoSemestre/ModDL\n"
          ]
        }
      ],
      "source": [
        "from google.colab import drive\n",
        "drive.mount('/content/drive')\n",
        "\n",
        "%cd \"/content/drive/MyDrive/SeptimoSemestre/ModDL\""
      ]
    },
    {
      "cell_type": "code",
      "source": [
        "base = 'forklift'\n",
        "train = os.path.join(base,'train')\n",
        "validation = os.path.join(base,'val')\n",
        "test = os.path.join(base,'test')"
      ],
      "metadata": {
        "id": "TeQ2lApcIx8Z"
      },
      "execution_count": 3,
      "outputs": []
    },
    {
      "cell_type": "code",
      "source": [
        "train_datagen = ImageDataGenerator(\n",
        "\t\t\t\t\t\t\trescale = 1./255,\n",
        "\t\t\t\t\t\t\twidth_shift_range = 0.2,\n",
        "\t\t\t\t\t\t\theight_shift_range = 0.2,\n",
        "\t\t\t\t\t\t\tzoom_range = 0.2,\n",
        "\t\t\t\t\t\t\thorizontal_flip = True)\n",
        "\n",
        "train_generator = train_datagen.flow_from_directory(\n",
        "\t\t\t\t\t\t\ttrain,\n",
        "\t\t\t\t\t\t\ttarget_size = (150, 150),\n",
        "\t\t\t\t\t\t\tbatch_size = 30,\n",
        "\t\t\t\t\t\t\tclass_mode ='binary')"
      ],
      "metadata": {
        "colab": {
          "base_uri": "https://localhost:8080/"
        },
        "id": "ALyNNlLRJ2SS",
        "outputId": "98975932-6672-42d3-a1ea-6ddf3aedf83b"
      },
      "execution_count": 4,
      "outputs": [
        {
          "output_type": "stream",
          "name": "stdout",
          "text": [
            "Found 812 images belonging to 1 classes.\n"
          ]
        }
      ]
    },
    {
      "cell_type": "code",
      "source": [
        "val_datagen = ImageDataGenerator(1./255)\n",
        "\n",
        "val_generator = val_datagen.flow_from_directory(\n",
        "\t\t\t\t\t\t\tvalidation,\n",
        "\t\t\t\t\t\t\ttarget_size = (150,150),\n",
        "\t\t\t\t\t\t\tbatch_size =30,\n",
        "\t\t\t\t\t\t\tclass_mode= 'binary')"
      ],
      "metadata": {
        "colab": {
          "base_uri": "https://localhost:8080/"
        },
        "id": "Iiwx7hLeKjwQ",
        "outputId": "2b41bd9e-fa38-4a87-c15b-5019b55de4bf"
      },
      "execution_count": 5,
      "outputs": [
        {
          "output_type": "stream",
          "name": "stdout",
          "text": [
            "Found 116 images belonging to 1 classes.\n"
          ]
        }
      ]
    },
    {
      "cell_type": "code",
      "source": [
        "conv_base= VGG16(weights='imagenet',\n",
        "\t\t\t\t\t\t\t\tinclude_top = False,\n",
        "\t\t\t\t\t\t\t\tinput_shape = (150,150,3))"
      ],
      "metadata": {
        "colab": {
          "base_uri": "https://localhost:8080/"
        },
        "id": "IqXNQ-FiK2EJ",
        "outputId": "9eedff59-3c40-4e28-981e-8d883240d697"
      },
      "execution_count": 6,
      "outputs": [
        {
          "output_type": "stream",
          "name": "stdout",
          "text": [
            "Downloading data from https://storage.googleapis.com/tensorflow/keras-applications/vgg16/vgg16_weights_tf_dim_ordering_tf_kernels_notop.h5\n",
            "58889256/58889256 [==============================] - 1s 0us/step\n"
          ]
        }
      ]
    },
    {
      "cell_type": "code",
      "source": [
        "model = models.Sequential()\n",
        "model.add(conv_base)\n",
        "model.add(layers.Flatten())\n",
        "model.add(layers.Dense(256,activation='relu'))\n",
        "model.add(layers.Dense(1,activation='sigmoid'))\n",
        "\n",
        "conv_base.trainable = False"
      ],
      "metadata": {
        "id": "K6tt_GArMUZ_"
      },
      "execution_count": 7,
      "outputs": []
    },
    {
      "cell_type": "code",
      "source": [
        "model.summary()"
      ],
      "metadata": {
        "colab": {
          "base_uri": "https://localhost:8080/"
        },
        "id": "uSmgx2D3M7r4",
        "outputId": "1a204dba-1410-4032-8217-026c2b359b34"
      },
      "execution_count": 8,
      "outputs": [
        {
          "output_type": "stream",
          "name": "stdout",
          "text": [
            "Model: \"sequential\"\n",
            "_________________________________________________________________\n",
            " Layer (type)                Output Shape              Param #   \n",
            "=================================================================\n",
            " vgg16 (Functional)          (None, 4, 4, 512)         14714688  \n",
            "                                                                 \n",
            " flatten (Flatten)           (None, 8192)              0         \n",
            "                                                                 \n",
            " dense (Dense)               (None, 256)               2097408   \n",
            "                                                                 \n",
            " dense_1 (Dense)             (None, 1)                 257       \n",
            "                                                                 \n",
            "=================================================================\n",
            "Total params: 16812353 (64.13 MB)\n",
            "Trainable params: 2097665 (8.00 MB)\n",
            "Non-trainable params: 14714688 (56.13 MB)\n",
            "_________________________________________________________________\n"
          ]
        }
      ]
    },
    {
      "cell_type": "code",
      "source": [
        "model.compile(loss='binary_crossentropy',\n",
        "\t\t\t\t\t\toptimizer=optimizers.RMSprop(lr=2e-5),\n",
        "\t\t\t\t\t\tmetrics=['acc'])"
      ],
      "metadata": {
        "colab": {
          "base_uri": "https://localhost:8080/"
        },
        "id": "sPjSvD0fNTSV",
        "outputId": "0f7a71e2-3509-4d58-815f-beadec0115e9"
      },
      "execution_count": 9,
      "outputs": [
        {
          "output_type": "stream",
          "name": "stderr",
          "text": [
            "WARNING:absl:`lr` is deprecated in Keras optimizer, please use `learning_rate` or use the legacy optimizer, e.g.,tf.keras.optimizers.legacy.RMSprop.\n"
          ]
        }
      ]
    },
    {
      "cell_type": "code",
      "source": [
        "history = model.fit_generator(train_generator,\n",
        "\t\t\t\tsteps_per_epoch= 25,\n",
        "\t\t\t\tepochs= 5,\n",
        "\t\t\t\tvalidation_data= val_generator,\n",
        "\t\t\t\tvalidation_steps= 25)"
      ],
      "metadata": {
        "colab": {
          "base_uri": "https://localhost:8080/"
        },
        "id": "BGraVA67NZF7",
        "outputId": "87285801-a7cd-4c68-c401-adc2443d6167"
      },
      "execution_count": 11,
      "outputs": [
        {
          "output_type": "stream",
          "name": "stderr",
          "text": [
            "<ipython-input-11-ffd43f4de605>:1: UserWarning: `Model.fit_generator` is deprecated and will be removed in a future version. Please use `Model.fit`, which supports generators.\n",
            "  history = model.fit_generator(train_generator,\n"
          ]
        },
        {
          "output_type": "stream",
          "name": "stdout",
          "text": [
            "Epoch 1/5\n",
            "25/25 [==============================] - ETA: 0s - loss: 4.2744e-11 - acc: 1.0000"
          ]
        },
        {
          "output_type": "stream",
          "name": "stderr",
          "text": [
            "WARNING:tensorflow:Your input ran out of data; interrupting training. Make sure that your dataset or generator can generate at least `steps_per_epoch * epochs` batches (in this case, 25 batches). You may need to use the repeat() function when building your dataset.\n"
          ]
        },
        {
          "output_type": "stream",
          "name": "stdout",
          "text": [
            "\b\b\b\b\b\b\b\b\b\b\b\b\b\b\b\b\b\b\b\b\b\b\b\b\b\b\b\b\b\b\b\b\b\b\b\b\b\b\b\b\b\b\b\b\b\b\b\b\b\b\b\b\b\b\b\b\b\b\b\b\b\b\b\b\b\b\b\b\b\b\b\b\b\b\b\b\b\b\b\b\b\r25/25 [==============================] - 8s 308ms/step - loss: 4.2744e-11 - acc: 1.0000 - val_loss: 0.0000e+00 - val_acc: 1.0000\n",
            "Epoch 2/5\n",
            "25/25 [==============================] - 7s 259ms/step - loss: 3.7065e-11 - acc: 1.0000\n",
            "Epoch 3/5\n",
            "25/25 [==============================] - 6s 239ms/step - loss: 5.2074e-11 - acc: 1.0000\n",
            "Epoch 4/5\n",
            "25/25 [==============================] - 7s 285ms/step - loss: 4.3819e-11 - acc: 1.0000\n",
            "Epoch 5/5\n",
            "25/25 [==============================] - 6s 236ms/step - loss: 5.9675e-11 - acc: 1.0000\n"
          ]
        }
      ]
    },
    {
      "cell_type": "code",
      "source": [
        "# loss\n",
        "plt.plot(history.history['loss'], label='train loss')\n",
        "plt.plot(history.history['val_loss'], label='val loss')\n",
        "plt.legend()\n",
        "plt.show()"
      ],
      "metadata": {
        "colab": {
          "base_uri": "https://localhost:8080/",
          "height": 445
        },
        "id": "6kwysFuXd4sL",
        "outputId": "b330444e-53d5-4c61-9142-da63f9642b38"
      },
      "execution_count": 41,
      "outputs": [
        {
          "output_type": "display_data",
          "data": {
            "text/plain": [
              "<Figure size 640x480 with 1 Axes>"
            ],
            "image/png": "[encoded data removed]"
          },
          "metadata": {}
        }
      ]
    },
    {
      "cell_type": "code",
      "source": [
        " # accuracies\n",
        "plt.plot(history.history['acc'], label='train acc')\n",
        "plt.plot(history.history['val_acc'], label='val acc')\n",
        "plt.legend()\n",
        "plt.show()"
      ],
      "metadata": {
        "colab": {
          "base_uri": "https://localhost:8080/",
          "height": 430
        },
        "id": "IeYfMwVCd_NH",
        "outputId": "b953a47d-a469-477e-e4cb-ef5dd8425db9"
      },
      "execution_count": 40,
      "outputs": [
        {
          "output_type": "display_data",
          "data": {
            "text/plain": [
              "<Figure size 640x480 with 1 Axes>"
            ],
            "image/png": "[encoded data removed]"
          },
          "metadata": {}
        }
      ]
    },
    {
      "cell_type": "code",
      "source": [
        "acc = history.history['acc']\n",
        "val_acc = history.history['val_acc']\n",
        "loss = history.history['loss']\n",
        "val_loss = history.history['val_loss']\n",
        "print(\"Accuracy = \",acc)\n",
        "print(\"Validation Accuracy = \",val_acc)\n",
        "print(\"Loss = \",loss)\n",
        "print(\"Validation Loss = \",val_loss)"
      ],
      "metadata": {
        "colab": {
          "base_uri": "https://localhost:8080/"
        },
        "id": "rKT7aDroPCCt",
        "outputId": "984f0a6c-20a4-4e0a-921f-266014c02877"
      },
      "execution_count": 42,
      "outputs": [
        {
          "output_type": "stream",
          "name": "stdout",
          "text": [
            "Accuracy =  [1.0, 1.0, 1.0, 1.0, 1.0]\n",
            "Validation Accuracy =  [1.0]\n",
            "Loss =  [4.274403053727838e-11, 3.7064500774119935e-11, 5.207386605254882e-11, 4.381851131940451e-11, 5.967466798484367e-11]\n",
            "Validation Loss =  [0.0]\n"
          ]
        }
      ]
    },
    {
      "cell_type": "code",
      "source": [
        "test_datagen = ImageDataGenerator(1./255)\n",
        "test_generator = test_datagen.flow_from_directory(\n",
        "\t\t\t\t\ttest,\n",
        "\t\t\t\t\ttarget_size = (150, 150),\n",
        "\t\t\t\t\tbatch_size = 20,\n",
        "\t\t\t\t\tclass_mode= 'binary')\n",
        "\n",
        "test_loss, test_acc = model.evaluate_generator(test_generator, steps = 25)\n",
        "print('\\ntest acc :\\n', test_acc)"
      ],
      "metadata": {
        "colab": {
          "base_uri": "https://localhost:8080/"
        },
        "id": "Yil4rIHYPiks",
        "outputId": "44571def-fa4e-490b-d8a3-407cd1865e7d"
      },
      "execution_count": 18,
      "outputs": [
        {
          "output_type": "stream",
          "name": "stdout",
          "text": [
            "Found 372 images belonging to 1 classes.\n"
          ]
        },
        {
          "output_type": "stream",
          "name": "stderr",
          "text": [
            "<ipython-input-18-bd2ecfd8dbb8>:8: UserWarning: `Model.evaluate_generator` is deprecated and will be removed in a future version. Please use `Model.evaluate`, which supports generators.\n",
            "  test_loss, test_acc = model.evaluate_generator(test_generator, steps = 25)\n",
            "/usr/local/lib/python3.10/dist-packages/keras/src/preprocessing/image.py:1862: UserWarning: This ImageDataGenerator specifies `featurewise_center`, but it hasn't been fit on any training data. Fit it first by calling `.fit(numpy_data)`.\n",
            "  warnings.warn(\n",
            "WARNING:tensorflow:Your input ran out of data; interrupting training. Make sure that your dataset or generator can generate at least `steps_per_epoch * epochs` batches (in this case, 25 batches). You may need to use the repeat() function when building your dataset.\n"
          ]
        },
        {
          "output_type": "stream",
          "name": "stdout",
          "text": [
            "\n",
            "test acc :\n",
            " 1.0\n"
          ]
        }
      ]
    }
  ]
}